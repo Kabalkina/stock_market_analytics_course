{
 "cells": [
  {
   "cell_type": "markdown",
   "id": "0ea1df26",
   "metadata": {},
   "source": [
    "# Homework for week 2"
   ]
  },
  {
   "cell_type": "markdown",
   "id": "c6697fcd",
   "metadata": {
    "vscode": {
     "languageId": "plaintext"
    }
   },
   "source": [
    "## Question 1: [IPO] Withdrawn IPOs by Company Type"
   ]
  },
  {
   "cell_type": "code",
   "execution_count": 27,
   "id": "215eca96",
   "metadata": {},
   "outputs": [],
   "source": [
    "import pandas as pd\n",
    "import numpy as np\n",
    "\n",
    "import matplotlib.pyplot as plt\n",
    "import seaborn as sns\n",
    "\n",
    "import requests\n",
    "from io import StringIO\n",
    "\n",
    "import string"
   ]
  },
  {
   "cell_type": "code",
   "execution_count": 5,
   "id": "16704376",
   "metadata": {},
   "outputs": [],
   "source": [
    "url = \"https://stockanalysis.com/ipos/withdrawn/\"\n",
    "response = requests.get(url)\n",
    "#response.raise_for_status()\n",
    "\n",
    "        # Wrap HTML text in StringIO to avoid deprecation warning\n",
    "        # \"Passing literal html to 'read_html' is deprecated and will be removed in a future version. To read from a literal string, wrap it in a 'StringIO' object.\"\n",
    "html_io = StringIO(response.text)\n",
    "df_ipo = pd.read_html(html_io)"
   ]
  },
  {
   "cell_type": "code",
   "execution_count": 10,
   "id": "553184a5",
   "metadata": {},
   "outputs": [],
   "source": [
    "df_ipo = df_ipo[0]"
   ]
  },
  {
   "cell_type": "code",
   "execution_count": 11,
   "id": "f09658bc",
   "metadata": {},
   "outputs": [
    {
     "data": {
      "text/plain": [
       "(100, 4)"
      ]
     },
     "execution_count": 11,
     "metadata": {},
     "output_type": "execute_result"
    }
   ],
   "source": [
    "df_ipo.shape"
   ]
  },
  {
   "cell_type": "code",
   "execution_count": 12,
   "id": "2f7452c2",
   "metadata": {},
   "outputs": [
    {
     "data": {
      "text/html": [
       "<div>\n",
       "<style scoped>\n",
       "    .dataframe tbody tr th:only-of-type {\n",
       "        vertical-align: middle;\n",
       "    }\n",
       "\n",
       "    .dataframe tbody tr th {\n",
       "        vertical-align: top;\n",
       "    }\n",
       "\n",
       "    .dataframe thead th {\n",
       "        text-align: right;\n",
       "    }\n",
       "</style>\n",
       "<table border=\"1\" class=\"dataframe\">\n",
       "  <thead>\n",
       "    <tr style=\"text-align: right;\">\n",
       "      <th></th>\n",
       "      <th>Symbol</th>\n",
       "      <th>Company Name</th>\n",
       "      <th>Price Range</th>\n",
       "      <th>Shares Offered</th>\n",
       "    </tr>\n",
       "  </thead>\n",
       "  <tbody>\n",
       "    <tr>\n",
       "      <th>0</th>\n",
       "      <td>ODTX</td>\n",
       "      <td>Odyssey Therapeutics, Inc.</td>\n",
       "      <td>-</td>\n",
       "      <td>-</td>\n",
       "    </tr>\n",
       "    <tr>\n",
       "      <th>1</th>\n",
       "      <td>UNFL</td>\n",
       "      <td>Unifoil Holdings, Inc.</td>\n",
       "      <td>$3.00 - $4.00</td>\n",
       "      <td>2000000</td>\n",
       "    </tr>\n",
       "    <tr>\n",
       "      <th>2</th>\n",
       "      <td>AURN</td>\n",
       "      <td>Aurion Biotech, Inc.</td>\n",
       "      <td>-</td>\n",
       "      <td>-</td>\n",
       "    </tr>\n",
       "    <tr>\n",
       "      <th>3</th>\n",
       "      <td>ROTR</td>\n",
       "      <td>PHI Group, Inc.</td>\n",
       "      <td>-</td>\n",
       "      <td>-</td>\n",
       "    </tr>\n",
       "    <tr>\n",
       "      <th>4</th>\n",
       "      <td>ONE</td>\n",
       "      <td>One Power Company</td>\n",
       "      <td>-</td>\n",
       "      <td>-</td>\n",
       "    </tr>\n",
       "  </tbody>\n",
       "</table>\n",
       "</div>"
      ],
      "text/plain": [
       "  Symbol                Company Name    Price Range Shares Offered\n",
       "0   ODTX  Odyssey Therapeutics, Inc.              -              -\n",
       "1   UNFL      Unifoil Holdings, Inc.  $3.00 - $4.00        2000000\n",
       "2   AURN        Aurion Biotech, Inc.              -              -\n",
       "3   ROTR             PHI Group, Inc.              -              -\n",
       "4    ONE           One Power Company              -              -"
      ]
     },
     "execution_count": 12,
     "metadata": {},
     "output_type": "execute_result"
    }
   ],
   "source": [
    "df_ipo.head()"
   ]
  },
  {
   "cell_type": "code",
   "execution_count": 28,
   "id": "dd54df9b",
   "metadata": {},
   "outputs": [],
   "source": [
    "def company_class(name):\n",
    "\n",
    "     # Convert to lowercase and remove punctuation\n",
    "    name = name.lower()\n",
    "    name = name.translate(str.maketrans('', '', string.punctuation))\n",
    "    words = name.split()\n",
    "\n",
    "    if 'acquisition' in words and ('corp' in words or 'corporation' in words):\n",
    "        return 'Acq.Corp'\n",
    "    elif 'inc' in words or 'incorporated' in words :\n",
    "        return 'Inc'\n",
    "    elif 'group' in words:\n",
    "        return 'Group'\n",
    "    elif 'holdings' in words:\n",
    "        return 'Holdings'\n",
    "    elif 'ltd' in words or 'limited' in words:\n",
    "        return 'Ltd'\n",
    "    else:\n",
    "        return 'Other'"
   ]
  },
  {
   "cell_type": "code",
   "execution_count": 29,
   "id": "a84aa617",
   "metadata": {},
   "outputs": [],
   "source": [
    "df_ipo[\"Company Class\"] = df_ipo[\"Company Name\"].apply(company_class)\n"
   ]
  },
  {
   "cell_type": "code",
   "execution_count": 32,
   "id": "6cca4ea4",
   "metadata": {},
   "outputs": [
    {
     "data": {
      "text/plain": [
       "Company Class\n",
       "Inc         51\n",
       "Acq.Corp    21\n",
       "Ltd         12\n",
       "Other        6\n",
       "Holdings     6\n",
       "Group        4\n",
       "Name: count, dtype: int64"
      ]
     },
     "execution_count": 32,
     "metadata": {},
     "output_type": "execute_result"
    }
   ],
   "source": [
    "df_ipo['Company Class'].value_counts()"
   ]
  },
  {
   "cell_type": "code",
   "execution_count": null,
   "id": "65cb57d3",
   "metadata": {},
   "outputs": [],
   "source": []
  }
 ],
 "metadata": {
  "kernelspec": {
   "display_name": "base",
   "language": "python",
   "name": "python3"
  },
  "language_info": {
   "codemirror_mode": {
    "name": "ipython",
    "version": 3
   },
   "file_extension": ".py",
   "mimetype": "text/x-python",
   "name": "python",
   "nbconvert_exporter": "python",
   "pygments_lexer": "ipython3",
   "version": "3.12.7"
  }
 },
 "nbformat": 4,
 "nbformat_minor": 5
}
