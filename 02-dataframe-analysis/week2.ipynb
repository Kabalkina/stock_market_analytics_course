{
 "cells": [
  {
   "cell_type": "markdown",
   "id": "0ea1df26",
   "metadata": {},
   "source": [
    "# Homework for week 2"
   ]
  },
  {
   "cell_type": "code",
   "execution_count": null,
   "id": "c6697fcd",
   "metadata": {
    "vscode": {
     "languageId": "plaintext"
    }
   },
   "outputs": [],
   "source": []
  }
 ],
 "metadata": {
  "language_info": {
   "name": "python"
  }
 },
 "nbformat": 4,
 "nbformat_minor": 5
}
